{
  "nbformat": 4,
  "nbformat_minor": 0,
  "metadata": {
    "kernelspec": {
      "name": "python3",
      "display_name": "Python 3"
    },
    "language_info": {
      "codemirror_mode": {
        "name": "ipython",
        "version": 3
      },
      "file_extension": ".py",
      "mimetype": "text/x-python",
      "name": "python",
      "nbconvert_exporter": "python",
      "pygments_lexer": "ipython3",
      "version": "3.6.9"
    },
    "colab": {
      "name": "employee algorithm 6 latest.ipynb",
      "provenance": []
    },
    "accelerator": "TPU"
  },
  "cells": [
    {
      "cell_type": "code",
      "metadata": {
        "id": "2vkq5iHtkrRO",
        "colab_type": "code",
        "colab": {}
      },
      "source": [
        "from xgboost import XGBClassifier\n",
        "from sklearn.neural_network import MLPClassifier\n",
        "from sklearn.model_selection import train_test_split\n",
        "from sklearn.metrics import accuracy_score\n",
        "from sklearn.metrics import precision_score\n",
        "from sklearn.metrics import recall_score\n",
        "from sklearn.metrics import roc_auc_score\n",
        "from sklearn.metrics import f1_score\n",
        "import pandas as pd\n",
        "from sklearn import preprocessing\n",
        "import xgboost as xgb\n",
        "from xgboost import plot_importance\n",
        "import numpy as np\n",
        "from sklearn.metrics import confusion_matrix\n",
        "\n",
        "\n",
        "from sklearn.preprocessing import StandardScaler\n",
        "from sklearn.preprocessing import MinMaxScaler\n",
        "pd.set_option('display.max_columns', 500)\n",
        "pd.set_option('display.max_rows', 500)"
      ],
      "execution_count": 0,
      "outputs": []
    },
    {
      "cell_type": "code",
      "metadata": {
        "id": "c-hH8jAUkzXj",
        "colab_type": "code",
        "outputId": "669ce68e-93eb-4fbd-fc99-ed74fa213f7d",
        "colab": {
          "resources": {
            "http://localhost:8080/nbextensions/google.colab/files.js": {
              "data": "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",
              "ok": true,
              "headers": [
                [
                  "content-type",
                  "application/javascript"
                ]
              ],
              "status": 200,
              "status_text": ""
            }
          },
          "base_uri": "https://localhost:8080/",
          "height": 75
        }
      },
      "source": [
        "from google.colab import files\n",
        "#uploaded = files.upload()\n",
        "uploaded = files.upload()\n",
        "\n"
      ],
      "execution_count": 0,
      "outputs": [
        {
          "output_type": "display_data",
          "data": {
            "text/html": [
              "\n",
              "     <input type=\"file\" id=\"files-ca9b8d7f-b1d7-45a6-ab33-32dda35d2505\" name=\"files[]\" multiple disabled />\n",
              "     <output id=\"result-ca9b8d7f-b1d7-45a6-ab33-32dda35d2505\">\n",
              "      Upload widget is only available when the cell has been executed in the\n",
              "      current browser session. Please rerun this cell to enable.\n",
              "      </output>\n",
              "      <script src=\"/nbextensions/google.colab/files.js\"></script> "
            ],
            "text/plain": [
              "<IPython.core.display.HTML object>"
            ]
          },
          "metadata": {
            "tags": []
          }
        },
        {
          "output_type": "stream",
          "text": [
            "Saving train.csv to train (4).csv\n"
          ],
          "name": "stdout"
        }
      ]
    },
    {
      "cell_type": "code",
      "metadata": {
        "id": "BAuyDl6alcCK",
        "colab_type": "code",
        "colab": {}
      },
      "source": [
        "import io\n",
        "df = pd.read_csv(io.BytesIO(uploaded['train.csv']))"
      ],
      "execution_count": 0,
      "outputs": []
    },
    {
      "cell_type": "code",
      "metadata": {
        "id": "9cqgMWFAm24P",
        "colab_type": "code",
        "colab": {}
      },
      "source": [
        "df.set_index('EmployeeNo',inplace=True)"
      ],
      "execution_count": 0,
      "outputs": []
    },
    {
      "cell_type": "code",
      "metadata": {
        "id": "NtJIDlJnqNfB",
        "colab_type": "code",
        "colab": {}
      },
      "source": [
        ""
      ],
      "execution_count": 0,
      "outputs": []
    },
    {
      "cell_type": "code",
      "metadata": {
        "id": "iinjbtGiwoP6",
        "colab_type": "code",
        "outputId": "f7a0d659-696d-4564-cf85-2c0bd0b705eb",
        "colab": {
          "resources": {
            "http://localhost:8080/nbextensions/google.colab/files.js": {
              "data": "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",
              "ok": true,
              "headers": [
                [
                  "content-type",
                  "application/javascript"
                ]
              ],
              "status": 200,
              "status_text": ""
            }
          },
          "base_uri": "https://localhost:8080/",
          "height": 75
        }
      },
      "source": [
        "uploaded2 = files.upload()"
      ],
      "execution_count": 0,
      "outputs": [
        {
          "output_type": "display_data",
          "data": {
            "text/html": [
              "\n",
              "     <input type=\"file\" id=\"files-616717fb-d883-49cd-a577-4a8af1c450dd\" name=\"files[]\" multiple disabled />\n",
              "     <output id=\"result-616717fb-d883-49cd-a577-4a8af1c450dd\">\n",
              "      Upload widget is only available when the cell has been executed in the\n",
              "      current browser session. Please rerun this cell to enable.\n",
              "      </output>\n",
              "      <script src=\"/nbextensions/google.colab/files.js\"></script> "
            ],
            "text/plain": [
              "<IPython.core.display.HTML object>"
            ]
          },
          "metadata": {
            "tags": []
          }
        },
        {
          "output_type": "stream",
          "text": [
            "Saving test.csv to test (1).csv\n"
          ],
          "name": "stdout"
        }
      ]
    },
    {
      "cell_type": "code",
      "metadata": {
        "id": "1MFo_Kq-nZb4",
        "colab_type": "code",
        "colab": {}
      },
      "source": [
        "#uploaded2 = files.upload()"
      ],
      "execution_count": 0,
      "outputs": []
    },
    {
      "cell_type": "code",
      "metadata": {
        "id": "m03foqUFnvdr",
        "colab_type": "code",
        "colab": {}
      },
      "source": [
        "df2 = pd.read_csv(io.BytesIO(uploaded2['test.csv']))"
      ],
      "execution_count": 0,
      "outputs": []
    },
    {
      "cell_type": "code",
      "metadata": {
        "id": "QaU2nUZzoxSM",
        "colab_type": "code",
        "outputId": "29369586-754c-45d0-88d4-98e5ca17ee7a",
        "colab": {
          "base_uri": "https://localhost:8080/",
          "height": 544
        }
      },
      "source": [
        "df2.set_index('EmployeeNo', inplace= True)\n",
        "df2['Promoted_or_Not'] = 5\n",
        "df2.head()"
      ],
      "execution_count": 0,
      "outputs": [
        {
          "output_type": "execute_result",
          "data": {
            "text/html": [
              "<div>\n",
              "<style scoped>\n",
              "    .dataframe tbody tr th:only-of-type {\n",
              "        vertical-align: middle;\n",
              "    }\n",
              "\n",
              "    .dataframe tbody tr th {\n",
              "        vertical-align: top;\n",
              "    }\n",
              "\n",
              "    .dataframe thead th {\n",
              "        text-align: right;\n",
              "    }\n",
              "</style>\n",
              "<table border=\"1\" class=\"dataframe\">\n",
              "  <thead>\n",
              "    <tr style=\"text-align: right;\">\n",
              "      <th></th>\n",
              "      <th>Division</th>\n",
              "      <th>Qualification</th>\n",
              "      <th>Gender</th>\n",
              "      <th>Channel_of_Recruitment</th>\n",
              "      <th>Trainings_Attended</th>\n",
              "      <th>Year_of_birth</th>\n",
              "      <th>Last_performance_score</th>\n",
              "      <th>Year_of_recruitment</th>\n",
              "      <th>Targets_met</th>\n",
              "      <th>Previous_Award</th>\n",
              "      <th>Training_score_average</th>\n",
              "      <th>State_Of_Origin</th>\n",
              "      <th>Foreign_schooled</th>\n",
              "      <th>Marital_Status</th>\n",
              "      <th>Past_Disciplinary_Action</th>\n",
              "      <th>Previous_IntraDepartmental_Movement</th>\n",
              "      <th>No_of_previous_employers</th>\n",
              "      <th>Promoted_or_Not</th>\n",
              "    </tr>\n",
              "    <tr>\n",
              "      <th>EmployeeNo</th>\n",
              "      <th></th>\n",
              "      <th></th>\n",
              "      <th></th>\n",
              "      <th></th>\n",
              "      <th></th>\n",
              "      <th></th>\n",
              "      <th></th>\n",
              "      <th></th>\n",
              "      <th></th>\n",
              "      <th></th>\n",
              "      <th></th>\n",
              "      <th></th>\n",
              "      <th></th>\n",
              "      <th></th>\n",
              "      <th></th>\n",
              "      <th></th>\n",
              "      <th></th>\n",
              "      <th></th>\n",
              "    </tr>\n",
              "  </thead>\n",
              "  <tbody>\n",
              "    <tr>\n",
              "      <th>YAK/S/00005</th>\n",
              "      <td>Information Technology and Solution Support</td>\n",
              "      <td>First Degree or HND</td>\n",
              "      <td>Male</td>\n",
              "      <td>Agency and others</td>\n",
              "      <td>2</td>\n",
              "      <td>1976</td>\n",
              "      <td>7.5</td>\n",
              "      <td>2017</td>\n",
              "      <td>0</td>\n",
              "      <td>0</td>\n",
              "      <td>65</td>\n",
              "      <td>FCT</td>\n",
              "      <td>Yes</td>\n",
              "      <td>Married</td>\n",
              "      <td>No</td>\n",
              "      <td>No</td>\n",
              "      <td>1</td>\n",
              "      <td>5</td>\n",
              "    </tr>\n",
              "    <tr>\n",
              "      <th>YAK/S/00011</th>\n",
              "      <td>Information Technology and Solution Support</td>\n",
              "      <td>NaN</td>\n",
              "      <td>Male</td>\n",
              "      <td>Direct Internal process</td>\n",
              "      <td>2</td>\n",
              "      <td>1991</td>\n",
              "      <td>0.0</td>\n",
              "      <td>2018</td>\n",
              "      <td>0</td>\n",
              "      <td>0</td>\n",
              "      <td>69</td>\n",
              "      <td>OGUN</td>\n",
              "      <td>Yes</td>\n",
              "      <td>Married</td>\n",
              "      <td>No</td>\n",
              "      <td>No</td>\n",
              "      <td>1</td>\n",
              "      <td>5</td>\n",
              "    </tr>\n",
              "    <tr>\n",
              "      <th>YAK/S/00015</th>\n",
              "      <td>Research and Innovation</td>\n",
              "      <td>MSc, MBA and PhD</td>\n",
              "      <td>Male</td>\n",
              "      <td>Direct Internal process</td>\n",
              "      <td>2</td>\n",
              "      <td>1984</td>\n",
              "      <td>7.5</td>\n",
              "      <td>2012</td>\n",
              "      <td>0</td>\n",
              "      <td>0</td>\n",
              "      <td>76</td>\n",
              "      <td>KANO</td>\n",
              "      <td>Yes</td>\n",
              "      <td>Married</td>\n",
              "      <td>No</td>\n",
              "      <td>No</td>\n",
              "      <td>1</td>\n",
              "      <td>5</td>\n",
              "    </tr>\n",
              "    <tr>\n",
              "      <th>YAK/S/00016</th>\n",
              "      <td>Customer Support and Field Operations</td>\n",
              "      <td>First Degree or HND</td>\n",
              "      <td>Male</td>\n",
              "      <td>Agency and others</td>\n",
              "      <td>2</td>\n",
              "      <td>1984</td>\n",
              "      <td>2.5</td>\n",
              "      <td>2009</td>\n",
              "      <td>0</td>\n",
              "      <td>0</td>\n",
              "      <td>52</td>\n",
              "      <td>RIVERS</td>\n",
              "      <td>No</td>\n",
              "      <td>Single</td>\n",
              "      <td>No</td>\n",
              "      <td>No</td>\n",
              "      <td>1</td>\n",
              "      <td>5</td>\n",
              "    </tr>\n",
              "    <tr>\n",
              "      <th>YAK/S/00017</th>\n",
              "      <td>Information Technology and Solution Support</td>\n",
              "      <td>First Degree or HND</td>\n",
              "      <td>Male</td>\n",
              "      <td>Agency and others</td>\n",
              "      <td>2</td>\n",
              "      <td>1983</td>\n",
              "      <td>7.5</td>\n",
              "      <td>2014</td>\n",
              "      <td>1</td>\n",
              "      <td>0</td>\n",
              "      <td>69</td>\n",
              "      <td>FCT</td>\n",
              "      <td>Yes</td>\n",
              "      <td>Married</td>\n",
              "      <td>No</td>\n",
              "      <td>No</td>\n",
              "      <td>0</td>\n",
              "      <td>5</td>\n",
              "    </tr>\n",
              "  </tbody>\n",
              "</table>\n",
              "</div>"
            ],
            "text/plain": [
              "                                                Division        Qualification  \\\n",
              "EmployeeNo                                                                      \n",
              "YAK/S/00005  Information Technology and Solution Support  First Degree or HND   \n",
              "YAK/S/00011  Information Technology and Solution Support                  NaN   \n",
              "YAK/S/00015                      Research and Innovation     MSc, MBA and PhD   \n",
              "YAK/S/00016        Customer Support and Field Operations  First Degree or HND   \n",
              "YAK/S/00017  Information Technology and Solution Support  First Degree or HND   \n",
              "\n",
              "            Gender   Channel_of_Recruitment  Trainings_Attended  \\\n",
              "EmployeeNo                                                        \n",
              "YAK/S/00005   Male        Agency and others                   2   \n",
              "YAK/S/00011   Male  Direct Internal process                   2   \n",
              "YAK/S/00015   Male  Direct Internal process                   2   \n",
              "YAK/S/00016   Male        Agency and others                   2   \n",
              "YAK/S/00017   Male        Agency and others                   2   \n",
              "\n",
              "             Year_of_birth  Last_performance_score  Year_of_recruitment  \\\n",
              "EmployeeNo                                                                \n",
              "YAK/S/00005           1976                     7.5                 2017   \n",
              "YAK/S/00011           1991                     0.0                 2018   \n",
              "YAK/S/00015           1984                     7.5                 2012   \n",
              "YAK/S/00016           1984                     2.5                 2009   \n",
              "YAK/S/00017           1983                     7.5                 2014   \n",
              "\n",
              "             Targets_met  Previous_Award  Training_score_average  \\\n",
              "EmployeeNo                                                         \n",
              "YAK/S/00005            0               0                      65   \n",
              "YAK/S/00011            0               0                      69   \n",
              "YAK/S/00015            0               0                      76   \n",
              "YAK/S/00016            0               0                      52   \n",
              "YAK/S/00017            1               0                      69   \n",
              "\n",
              "            State_Of_Origin Foreign_schooled Marital_Status  \\\n",
              "EmployeeNo                                                    \n",
              "YAK/S/00005             FCT              Yes        Married   \n",
              "YAK/S/00011            OGUN              Yes        Married   \n",
              "YAK/S/00015            KANO              Yes        Married   \n",
              "YAK/S/00016          RIVERS               No         Single   \n",
              "YAK/S/00017             FCT              Yes        Married   \n",
              "\n",
              "            Past_Disciplinary_Action Previous_IntraDepartmental_Movement  \\\n",
              "EmployeeNo                                                                 \n",
              "YAK/S/00005                       No                                  No   \n",
              "YAK/S/00011                       No                                  No   \n",
              "YAK/S/00015                       No                                  No   \n",
              "YAK/S/00016                       No                                  No   \n",
              "YAK/S/00017                       No                                  No   \n",
              "\n",
              "            No_of_previous_employers  Promoted_or_Not  \n",
              "EmployeeNo                                             \n",
              "YAK/S/00005                        1                5  \n",
              "YAK/S/00011                        1                5  \n",
              "YAK/S/00015                        1                5  \n",
              "YAK/S/00016                        1                5  \n",
              "YAK/S/00017                        0                5  "
            ]
          },
          "metadata": {
            "tags": []
          },
          "execution_count": 24
        }
      ]
    },
    {
      "cell_type": "code",
      "metadata": {
        "id": "AlH0ckiapiUB",
        "colab_type": "code",
        "outputId": "c2706a59-3de4-462a-92ef-af8b9c6748df",
        "colab": {
          "base_uri": "https://localhost:8080/",
          "height": 428
        }
      },
      "source": [
        "dfmerged = pd.concat([df,df2])\n",
        "print(dfmerged.shape)\n",
        "print(dfmerged.columns)"
      ],
      "execution_count": 0,
      "outputs": [
        {
          "output_type": "stream",
          "text": [
            "(54808, 18)\n",
            "Index(['Division', 'Qualification', 'Gender', 'Channel_of_Recruitment',\n",
            "       'Trainings_Attended', 'Year_of_birth', 'Last_performance_score',\n",
            "       'Year_of_recruitment', 'Targets_met', 'Previous_Award',\n",
            "       'Training_score_average', 'State_Of_Origin', 'Foreign_schooled',\n",
            "       'Marital_Status', 'Past_Disciplinary_Action',\n",
            "       'Previous_IntraDepartmental_Movement', 'No_of_previous_employers',\n",
            "       'Promoted_or_Not'],\n",
            "      dtype='object')\n"
          ],
          "name": "stdout"
        }
      ]
    },
    {
      "cell_type": "code",
      "metadata": {
        "id": "n7hYbdwakrSu",
        "colab_type": "code",
        "colab": {}
      },
      "source": [
        "#df['Last_performance_score'].describe()"
      ],
      "execution_count": 0,
      "outputs": []
    },
    {
      "cell_type": "code",
      "metadata": {
        "id": "h19vH44YkrS_",
        "colab_type": "code",
        "outputId": "1c2d2194-cbf3-41d8-89ca-9b50f6d59d4b",
        "colab": {
          "base_uri": "https://localhost:8080/",
          "height": 102
        }
      },
      "source": [
        "df['Qualification'].describe()"
      ],
      "execution_count": 0,
      "outputs": [
        {
          "output_type": "execute_result",
          "data": {
            "text/plain": [
              "count                   36633\n",
              "unique                      3\n",
              "top       First Degree or HND\n",
              "freq                    25578\n",
              "Name: Qualification, dtype: object"
            ]
          },
          "metadata": {
            "tags": []
          },
          "execution_count": 26
        }
      ]
    },
    {
      "cell_type": "code",
      "metadata": {
        "id": "RzAMuQswkrTT",
        "colab_type": "code",
        "colab": {}
      },
      "source": [
        "dfmerged['Qualification'].fillna('First Degree or HND', inplace=True)"
      ],
      "execution_count": 0,
      "outputs": []
    },
    {
      "cell_type": "code",
      "metadata": {
        "id": "Jrb9Sd6hkrTk",
        "colab_type": "code",
        "colab": {}
      },
      "source": [
        "#dividing year of birth by group\n",
        "dfmerged['Year_of_birth'] = dfmerged['Year_of_birth'].astype(int)\n",
        "dfmerged.loc[dfmerged['Year_of_birth'] <= 1950, 'Year_of_birth'] = 0\n",
        "dfmerged.loc[(dfmerged['Year_of_birth'] > 1950) & (dfmerged['Year_of_birth'] <= 1955), 'Year_of_birth'] = 1\n",
        "dfmerged.loc[(dfmerged['Year_of_birth'] > 1955) & (dfmerged['Year_of_birth'] <= 1960), 'Year_of_birth'] = 2\n",
        "dfmerged.loc[(dfmerged['Year_of_birth'] > 1960) & (dfmerged['Year_of_birth'] <= 1965), 'Year_of_birth'] = 3\n",
        "dfmerged.loc[(dfmerged['Year_of_birth'] > 1965) & (dfmerged['Year_of_birth'] <= 1970), 'Year_of_birth'] = 4\n",
        "dfmerged.loc[(dfmerged['Year_of_birth'] > 1970) & (dfmerged['Year_of_birth'] <= 1975), 'Year_of_birth'] = 5\n",
        "dfmerged.loc[(dfmerged['Year_of_birth'] > 1975) & (dfmerged['Year_of_birth'] <= 1980), 'Year_of_birth'] = 6\n",
        "dfmerged.loc[(dfmerged['Year_of_birth'] > 1980) & (dfmerged['Year_of_birth'] <= 1985), 'Year_of_birth'] = 7\n",
        "dfmerged.loc[(dfmerged['Year_of_birth'] > 1985) & (dfmerged['Year_of_birth'] <= 1990), 'Year_of_birth'] = 8\n",
        "dfmerged.loc[(dfmerged['Year_of_birth'] > 1990) & (dfmerged['Year_of_birth'] <= 1995), 'Year_of_birth'] = 9\n",
        "dfmerged.loc[(dfmerged['Year_of_birth'] > 1995) & (dfmerged['Year_of_birth'] <= 2000), 'Year_of_birth'] = 10\n",
        "dfmerged.loc[ dfmerged['Year_of_birth'] > 2000, 'Year_of_birth'] = 11\n",
        "\n",
        "#turning number of previous employer 'more than 5' into integer 6\n",
        "dfmerged.loc[dfmerged['No_of_previous_employers'] == 'More than 5', 'No_of_previous_employers'] = 6\n",
        "#converting the previous employer column from string into int\n",
        "dfmerged['No_of_previous_employers'] = dfmerged['No_of_previous_employers'].astype(int)\n",
        "\n",
        "#dividing year of recruitment by group\n",
        "dfmerged['Year_of_recruitment'] = dfmerged['Year_of_recruitment'].astype(int)\n",
        "dfmerged.loc[(dfmerged['Year_of_recruitment'] > 1982) & (dfmerged['Year_of_recruitment'] <= 1985), 'Year_of_recruitment'] = 0\n",
        "dfmerged.loc[(dfmerged['Year_of_recruitment'] > 1985) & (dfmerged['Year_of_recruitment'] <= 1988), 'Year_of_recruitment'] = 1\n",
        "dfmerged.loc[(dfmerged['Year_of_recruitment'] > 1988) & (dfmerged['Year_of_recruitment'] <= 1991), 'Year_of_recruitment'] = 2\n",
        "dfmerged.loc[(dfmerged['Year_of_recruitment'] > 1991) & (dfmerged['Year_of_recruitment'] <= 1994), 'Year_of_recruitment'] = 3\n",
        "dfmerged.loc[(dfmerged['Year_of_recruitment'] > 1994) & (dfmerged['Year_of_recruitment'] <= 1997), 'Year_of_recruitment'] = 4\n",
        "dfmerged.loc[(dfmerged['Year_of_recruitment'] > 1997) & (dfmerged['Year_of_recruitment'] <= 2000), 'Year_of_recruitment'] = 5\n",
        "dfmerged.loc[(dfmerged['Year_of_recruitment'] > 2000) & (dfmerged['Year_of_recruitment'] <= 2003), 'Year_of_recruitment'] = 6\n",
        "dfmerged.loc[(dfmerged['Year_of_recruitment'] > 2003) & (dfmerged['Year_of_recruitment'] <= 2006), 'Year_of_recruitment'] = 7\n",
        "dfmerged.loc[(dfmerged['Year_of_recruitment'] > 2006) & (dfmerged['Year_of_recruitment'] <= 2009), 'Year_of_recruitment'] = 8\n",
        "dfmerged.loc[(dfmerged['Year_of_recruitment'] > 2009) & (dfmerged['Year_of_recruitment'] <= 2012), 'Year_of_recruitment'] = 9\n",
        "dfmerged.loc[(dfmerged['Year_of_recruitment'] > 2012) & (dfmerged['Year_of_recruitment'] <= 2015), 'Year_of_recruitment'] = 10\n",
        "dfmerged.loc[(dfmerged['Year_of_recruitment'] > 2015) & (dfmerged['Year_of_recruitment'] <= 2018), 'Year_of_recruitment'] = 11\n",
        "dfmerged.loc[ dfmerged['Year_of_recruitment'] > 2018, 'Year_of_recruitment'] = 12"
      ],
      "execution_count": 0,
      "outputs": []
    },
    {
      "cell_type": "code",
      "metadata": {
        "id": "S9a318uCkrT3",
        "colab_type": "code",
        "outputId": "cc93853c-118a-4b1f-d37f-fb390d5017d6",
        "colab": {
          "base_uri": "https://localhost:8080/",
          "height": 820
        }
      },
      "source": [
        "#one hot encoding\n",
        "dfmerged = dfmerged.drop(['State_Of_Origin'], axis=1)\n",
        "dfmerged = pd.get_dummies(dfmerged, drop_first = True)\n",
        "#print(training_data.iloc[0:5,:])\n",
        "print(dfmerged.columns)\n",
        "print(dfmerged.shape)"
      ],
      "execution_count": 0,
      "outputs": [
        {
          "output_type": "stream",
          "text": [
            "Index(['Trainings_Attended', 'Year_of_birth', 'Last_performance_score',\n",
            "       'Year_of_recruitment', 'Targets_met', 'Previous_Award',\n",
            "       'Training_score_average', 'No_of_previous_employers', 'Promoted_or_Not',\n",
            "       'Division_Commercial Sales and Marketing',\n",
            "       'Division_Customer Support and Field Operations',\n",
            "       'Division_Information Technology and Solution Support',\n",
            "       'Division_Information and Strategy', 'Division_People/HR Management',\n",
            "       'Division_Regulatory and Legal services',\n",
            "       'Division_Research and Innovation', 'Division_Sourcing and Purchasing',\n",
            "       'Qualification_MSc, MBA and PhD',\n",
            "       'Qualification_Non-University Education', 'Gender_Male',\n",
            "       'Channel_of_Recruitment_Direct Internal process',\n",
            "       'Channel_of_Recruitment_Referral and Special candidates',\n",
            "       'Foreign_schooled_Yes', 'Marital_Status_Not_Sure',\n",
            "       'Marital_Status_Single', 'Past_Disciplinary_Action_Yes',\n",
            "       'Previous_IntraDepartmental_Movement_Yes'],\n",
            "      dtype='object')\n",
            "(54808, 27)\n"
          ],
          "name": "stdout"
        }
      ]
    },
    {
      "cell_type": "code",
      "metadata": {
        "id": "w8T6WnlskrUR",
        "colab_type": "code",
        "colab": {}
      },
      "source": [
        "#dfmerged = pd.concat([dfmerged[['Trainings_Attended','Year_of_birth','Last_performance_score','Year_of_recruitment','Targets_met','Previous_Award','Training_score_average','No_of_previous_employers','Promoted_or_Not']],\n",
        "#               pd.get_dummies(dfmerged['Division'],drop_first = True),pd.get_dummies(dfmerged['Qualification'],drop_first = True),pd.get_dummies(dfmerged['Gender'],drop_first = True),pd.get_dummies(dfmerged['Channel_of_Recruitment'],drop_first = True),pd.get_dummies(dfmerged['Foreign_schooled'],drop_first = True),pd.get_dummies(dfmerged['Marital_Status'],drop_first = True),pd.get_dummies(dfmerged['Past_Disciplinary_Action'],drop_first = True),pd.get_dummies(dfmerged['Previous_IntraDepartmental_Movement'],drop_first = True)],axis=1)"
      ],
      "execution_count": 0,
      "outputs": []
    },
    {
      "cell_type": "code",
      "metadata": {
        "id": "dTymH4j-krUi",
        "colab_type": "code",
        "colab": {}
      },
      "source": [
        "###Generating all possible pair of interactions between 2 pair of columns.\n",
        "##Then removing those columns \n",
        "\n",
        "from itertools import combinations\n",
        "from sklearn.preprocessing import PolynomialFeatures\n",
        "\n",
        "Y = dfmerged.Promoted_or_Not\n",
        "X = dfmerged.drop(['Promoted_or_Not'],1)\n"
      ],
      "execution_count": 0,
      "outputs": []
    },
    {
      "cell_type": "code",
      "metadata": {
        "id": "87tvKfx-krUy",
        "colab_type": "code",
        "outputId": "4c734457-a9f5-40b4-a7af-4d1d00e24725",
        "colab": {
          "base_uri": "https://localhost:8080/",
          "height": 120
        }
      },
      "source": [
        "def add_interactions(df):\n",
        "    combos = list(combinations(list(df.columns), 2))\n",
        "    colnames = list(df.columns)+['_'.join(x) for x in combos]\n",
        "    scaler = MinMaxScaler()\n",
        "    scaler.fit(df)\n",
        "    df = scaler.transform(df)\n",
        "    #scaler = MinMaxScaler()\n",
        "    #scaler.fit(df)\n",
        "    #df = scaler.transform(df)\n",
        "    \n",
        "    poly = PolynomialFeatures(interaction_only=True, include_bias=False)\n",
        "    df = poly.fit_transform(df)\n",
        "    df = pd.DataFrame(df)\n",
        "    df.columns = colnames\n",
        "    \n",
        "    noint_indices = [i for i,x in enumerate(list((df==0).all())) if x]\n",
        "    df= df.drop(df.columns[noint_indices], axis=1)\n",
        "    \n",
        "    return df\n",
        "X = add_interactions(X)\n",
        "X[-1:-5]"
      ],
      "execution_count": 0,
      "outputs": [
        {
          "output_type": "execute_result",
          "data": {
            "text/html": [
              "<div>\n",
              "<style scoped>\n",
              "    .dataframe tbody tr th:only-of-type {\n",
              "        vertical-align: middle;\n",
              "    }\n",
              "\n",
              "    .dataframe tbody tr th {\n",
              "        vertical-align: top;\n",
              "    }\n",
              "\n",
              "    .dataframe thead th {\n",
              "        text-align: right;\n",
              "    }\n",
              "</style>\n",
              "<table border=\"1\" class=\"dataframe\">\n",
              "  <thead>\n",
              "    <tr style=\"text-align: right;\">\n",
              "      <th></th>\n",
              "      <th>Trainings_Attended</th>\n",
              "      <th>Year_of_birth</th>\n",
              "      <th>Last_performance_score</th>\n",
              "      <th>Year_of_recruitment</th>\n",
              "      <th>Targets_met</th>\n",
              "      <th>Previous_Award</th>\n",
              "      <th>Training_score_average</th>\n",
              "      <th>No_of_previous_employers</th>\n",
              "      <th>Division_Commercial Sales and Marketing</th>\n",
              "      <th>Division_Customer Support and Field Operations</th>\n",
              "      <th>Division_Information Technology and Solution Support</th>\n",
              "      <th>Division_Information and Strategy</th>\n",
              "      <th>Division_People/HR Management</th>\n",
              "      <th>Division_Regulatory and Legal services</th>\n",
              "      <th>Division_Research and Innovation</th>\n",
              "      <th>Division_Sourcing and Purchasing</th>\n",
              "      <th>Qualification_MSc, MBA and PhD</th>\n",
              "      <th>Qualification_Non-University Education</th>\n",
              "      <th>Gender_Male</th>\n",
              "      <th>Channel_of_Recruitment_Direct Internal process</th>\n",
              "      <th>Channel_of_Recruitment_Referral and Special candidates</th>\n",
              "      <th>Foreign_schooled_Yes</th>\n",
              "      <th>Marital_Status_Not_Sure</th>\n",
              "      <th>Marital_Status_Single</th>\n",
              "      <th>Past_Disciplinary_Action_Yes</th>\n",
              "      <th>Previous_IntraDepartmental_Movement_Yes</th>\n",
              "      <th>Trainings_Attended_Year_of_birth</th>\n",
              "      <th>Trainings_Attended_Last_performance_score</th>\n",
              "      <th>Trainings_Attended_Year_of_recruitment</th>\n",
              "      <th>Trainings_Attended_Targets_met</th>\n",
              "      <th>Trainings_Attended_Previous_Award</th>\n",
              "      <th>Trainings_Attended_Training_score_average</th>\n",
              "      <th>Trainings_Attended_No_of_previous_employers</th>\n",
              "      <th>Trainings_Attended_Division_Commercial Sales and Marketing</th>\n",
              "      <th>Trainings_Attended_Division_Customer Support and Field Operations</th>\n",
              "      <th>Trainings_Attended_Division_Information Technology and Solution Support</th>\n",
              "      <th>Trainings_Attended_Division_Information and Strategy</th>\n",
              "      <th>Trainings_Attended_Division_People/HR Management</th>\n",
              "      <th>Trainings_Attended_Division_Regulatory and Legal services</th>\n",
              "      <th>Trainings_Attended_Division_Research and Innovation</th>\n",
              "      <th>Trainings_Attended_Division_Sourcing and Purchasing</th>\n",
              "      <th>Trainings_Attended_Qualification_MSc, MBA and PhD</th>\n",
              "      <th>Trainings_Attended_Qualification_Non-University Education</th>\n",
              "      <th>Trainings_Attended_Gender_Male</th>\n",
              "      <th>Trainings_Attended_Channel_of_Recruitment_Direct Internal process</th>\n",
              "      <th>Trainings_Attended_Channel_of_Recruitment_Referral and Special candidates</th>\n",
              "      <th>Trainings_Attended_Foreign_schooled_Yes</th>\n",
              "      <th>Trainings_Attended_Marital_Status_Not_Sure</th>\n",
              "      <th>Trainings_Attended_Marital_Status_Single</th>\n",
              "      <th>Trainings_Attended_Past_Disciplinary_Action_Yes</th>\n",
              "      <th>Trainings_Attended_Previous_IntraDepartmental_Movement_Yes</th>\n",
              "      <th>Year_of_birth_Last_performance_score</th>\n",
              "      <th>Year_of_birth_Year_of_recruitment</th>\n",
              "      <th>Year_of_birth_Targets_met</th>\n",
              "      <th>Year_of_birth_Previous_Award</th>\n",
              "      <th>Year_of_birth_Training_score_average</th>\n",
              "      <th>Year_of_birth_No_of_previous_employers</th>\n",
              "      <th>Year_of_birth_Division_Commercial Sales and Marketing</th>\n",
              "      <th>Year_of_birth_Division_Customer Support and Field Operations</th>\n",
              "      <th>Year_of_birth_Division_Information Technology and Solution Support</th>\n",
              "      <th>Year_of_birth_Division_Information and Strategy</th>\n",
              "      <th>Year_of_birth_Division_People/HR Management</th>\n",
              "      <th>Year_of_birth_Division_Regulatory and Legal services</th>\n",
              "      <th>Year_of_birth_Division_Research and Innovation</th>\n",
              "      <th>Year_of_birth_Division_Sourcing and Purchasing</th>\n",
              "      <th>Year_of_birth_Qualification_MSc, MBA and PhD</th>\n",
              "      <th>Year_of_birth_Qualification_Non-University Education</th>\n",
              "      <th>Year_of_birth_Gender_Male</th>\n",
              "      <th>Year_of_birth_Channel_of_Recruitment_Direct Internal process</th>\n",
              "      <th>Year_of_birth_Channel_of_Recruitment_Referral and Special candidates</th>\n",
              "      <th>Year_of_birth_Foreign_schooled_Yes</th>\n",
              "      <th>Year_of_birth_Marital_Status_Not_Sure</th>\n",
              "      <th>Year_of_birth_Marital_Status_Single</th>\n",
              "      <th>Year_of_birth_Past_Disciplinary_Action_Yes</th>\n",
              "      <th>Year_of_birth_Previous_IntraDepartmental_Movement_Yes</th>\n",
              "      <th>Last_performance_score_Year_of_recruitment</th>\n",
              "      <th>Last_performance_score_Targets_met</th>\n",
              "      <th>Last_performance_score_Previous_Award</th>\n",
              "      <th>Last_performance_score_Training_score_average</th>\n",
              "      <th>Last_performance_score_No_of_previous_employers</th>\n",
              "      <th>Last_performance_score_Division_Commercial Sales and Marketing</th>\n",
              "      <th>Last_performance_score_Division_Customer Support and Field Operations</th>\n",
              "      <th>Last_performance_score_Division_Information Technology and Solution Support</th>\n",
              "      <th>Last_performance_score_Division_Information and Strategy</th>\n",
              "      <th>Last_performance_score_Division_People/HR Management</th>\n",
              "      <th>Last_performance_score_Division_Regulatory and Legal services</th>\n",
              "      <th>Last_performance_score_Division_Research and Innovation</th>\n",
              "      <th>Last_performance_score_Division_Sourcing and Purchasing</th>\n",
              "      <th>Last_performance_score_Qualification_MSc, MBA and PhD</th>\n",
              "      <th>Last_performance_score_Qualification_Non-University Education</th>\n",
              "      <th>Last_performance_score_Gender_Male</th>\n",
              "      <th>Last_performance_score_Channel_of_Recruitment_Direct Internal process</th>\n",
              "      <th>Last_performance_score_Channel_of_Recruitment_Referral and Special candidates</th>\n",
              "      <th>Last_performance_score_Foreign_schooled_Yes</th>\n",
              "      <th>Last_performance_score_Marital_Status_Not_Sure</th>\n",
              "      <th>Last_performance_score_Marital_Status_Single</th>\n",
              "      <th>Last_performance_score_Past_Disciplinary_Action_Yes</th>\n",
              "      <th>Last_performance_score_Previous_IntraDepartmental_Movement_Yes</th>\n",
              "      <th>Year_of_recruitment_Targets_met</th>\n",
              "      <th>Year_of_recruitment_Previous_Award</th>\n",
              "      <th>Year_of_recruitment_Training_score_average</th>\n",
              "      <th>Year_of_recruitment_No_of_previous_employers</th>\n",
              "      <th>Year_of_recruitment_Division_Commercial Sales and Marketing</th>\n",
              "      <th>Year_of_recruitment_Division_Customer Support and Field Operations</th>\n",
              "      <th>Year_of_recruitment_Division_Information Technology and Solution Support</th>\n",
              "      <th>Year_of_recruitment_Division_Information and Strategy</th>\n",
              "      <th>Year_of_recruitment_Division_People/HR Management</th>\n",
              "      <th>Year_of_recruitment_Division_Regulatory and Legal services</th>\n",
              "      <th>Year_of_recruitment_Division_Research and Innovation</th>\n",
              "      <th>Year_of_recruitment_Division_Sourcing and Purchasing</th>\n",
              "      <th>Year_of_recruitment_Qualification_MSc, MBA and PhD</th>\n",
              "      <th>Year_of_recruitment_Qualification_Non-University Education</th>\n",
              "      <th>Year_of_recruitment_Gender_Male</th>\n",
              "      <th>Year_of_recruitment_Channel_of_Recruitment_Direct Internal process</th>\n",
              "      <th>Year_of_recruitment_Channel_of_Recruitment_Referral and Special candidates</th>\n",
              "      <th>Year_of_recruitment_Foreign_schooled_Yes</th>\n",
              "      <th>Year_of_recruitment_Marital_Status_Not_Sure</th>\n",
              "      <th>Year_of_recruitment_Marital_Status_Single</th>\n",
              "      <th>Year_of_recruitment_Past_Disciplinary_Action_Yes</th>\n",
              "      <th>Year_of_recruitment_Previous_IntraDepartmental_Movement_Yes</th>\n",
              "      <th>Targets_met_Previous_Award</th>\n",
              "      <th>Targets_met_Training_score_average</th>\n",
              "      <th>Targets_met_No_of_previous_employers</th>\n",
              "      <th>Targets_met_Division_Commercial Sales and Marketing</th>\n",
              "      <th>Targets_met_Division_Customer Support and Field Operations</th>\n",
              "      <th>Targets_met_Division_Information Technology and Solution Support</th>\n",
              "      <th>Targets_met_Division_Information and Strategy</th>\n",
              "      <th>Targets_met_Division_People/HR Management</th>\n",
              "      <th>Targets_met_Division_Regulatory and Legal services</th>\n",
              "      <th>Targets_met_Division_Research and Innovation</th>\n",
              "      <th>Targets_met_Division_Sourcing and Purchasing</th>\n",
              "      <th>Targets_met_Qualification_MSc, MBA and PhD</th>\n",
              "      <th>Targets_met_Qualification_Non-University Education</th>\n",
              "      <th>Targets_met_Gender_Male</th>\n",
              "      <th>Targets_met_Channel_of_Recruitment_Direct Internal process</th>\n",
              "      <th>Targets_met_Channel_of_Recruitment_Referral and Special candidates</th>\n",
              "      <th>Targets_met_Foreign_schooled_Yes</th>\n",
              "      <th>Targets_met_Marital_Status_Not_Sure</th>\n",
              "      <th>Targets_met_Marital_Status_Single</th>\n",
              "      <th>Targets_met_Past_Disciplinary_Action_Yes</th>\n",
              "      <th>Targets_met_Previous_IntraDepartmental_Movement_Yes</th>\n",
              "      <th>Previous_Award_Training_score_average</th>\n",
              "      <th>Previous_Award_No_of_previous_employers</th>\n",
              "      <th>Previous_Award_Division_Commercial Sales and Marketing</th>\n",
              "      <th>Previous_Award_Division_Customer Support and Field Operations</th>\n",
              "      <th>Previous_Award_Division_Information Technology and Solution Support</th>\n",
              "      <th>Previous_Award_Division_Information and Strategy</th>\n",
              "      <th>Previous_Award_Division_People/HR Management</th>\n",
              "      <th>Previous_Award_Division_Regulatory and Legal services</th>\n",
              "      <th>Previous_Award_Division_Research and Innovation</th>\n",
              "      <th>Previous_Award_Division_Sourcing and Purchasing</th>\n",
              "      <th>Previous_Award_Qualification_MSc, MBA and PhD</th>\n",
              "      <th>Previous_Award_Qualification_Non-University Education</th>\n",
              "      <th>Previous_Award_Gender_Male</th>\n",
              "      <th>Previous_Award_Channel_of_Recruitment_Direct Internal process</th>\n",
              "      <th>Previous_Award_Channel_of_Recruitment_Referral and Special candidates</th>\n",
              "      <th>Previous_Award_Foreign_schooled_Yes</th>\n",
              "      <th>Previous_Award_Marital_Status_Not_Sure</th>\n",
              "      <th>Previous_Award_Marital_Status_Single</th>\n",
              "      <th>Previous_Award_Past_Disciplinary_Action_Yes</th>\n",
              "      <th>Previous_Award_Previous_IntraDepartmental_Movement_Yes</th>\n",
              "      <th>Training_score_average_No_of_previous_employers</th>\n",
              "      <th>Training_score_average_Division_Commercial Sales and Marketing</th>\n",
              "      <th>Training_score_average_Division_Customer Support and Field Operations</th>\n",
              "      <th>Training_score_average_Division_Information Technology and Solution Support</th>\n",
              "      <th>Training_score_average_Division_Information and Strategy</th>\n",
              "      <th>Training_score_average_Division_People/HR Management</th>\n",
              "      <th>Training_score_average_Division_Regulatory and Legal services</th>\n",
              "      <th>Training_score_average_Division_Research and Innovation</th>\n",
              "      <th>Training_score_average_Division_Sourcing and Purchasing</th>\n",
              "      <th>Training_score_average_Qualification_MSc, MBA and PhD</th>\n",
              "      <th>Training_score_average_Qualification_Non-University Education</th>\n",
              "      <th>Training_score_average_Gender_Male</th>\n",
              "      <th>Training_score_average_Channel_of_Recruitment_Direct Internal process</th>\n",
              "      <th>Training_score_average_Channel_of_Recruitment_Referral and Special candidates</th>\n",
              "      <th>Training_score_average_Foreign_schooled_Yes</th>\n",
              "      <th>Training_score_average_Marital_Status_Not_Sure</th>\n",
              "      <th>Training_score_average_Marital_Status_Single</th>\n",
              "      <th>Training_score_average_Past_Disciplinary_Action_Yes</th>\n",
              "      <th>Training_score_average_Previous_IntraDepartmental_Movement_Yes</th>\n",
              "      <th>No_of_previous_employers_Division_Commercial Sales and Marketing</th>\n",
              "      <th>No_of_previous_employers_Division_Customer Support and Field Operations</th>\n",
              "      <th>No_of_previous_employers_Division_Information Technology and Solution Support</th>\n",
              "      <th>No_of_previous_employers_Division_Information and Strategy</th>\n",
              "      <th>No_of_previous_employers_Division_People/HR Management</th>\n",
              "      <th>No_of_previous_employers_Division_Regulatory and Legal services</th>\n",
              "      <th>No_of_previous_employers_Division_Research and Innovation</th>\n",
              "      <th>No_of_previous_employers_Division_Sourcing and Purchasing</th>\n",
              "      <th>No_of_previous_employers_Qualification_MSc, MBA and PhD</th>\n",
              "      <th>No_of_previous_employers_Qualification_Non-University Education</th>\n",
              "      <th>No_of_previous_employers_Gender_Male</th>\n",
              "      <th>No_of_previous_employers_Channel_of_Recruitment_Direct Internal process</th>\n",
              "      <th>No_of_previous_employers_Channel_of_Recruitment_Referral and Special candidates</th>\n",
              "      <th>No_of_previous_employers_Foreign_schooled_Yes</th>\n",
              "      <th>No_of_previous_employers_Marital_Status_Not_Sure</th>\n",
              "      <th>No_of_previous_employers_Marital_Status_Single</th>\n",
              "      <th>No_of_previous_employers_Past_Disciplinary_Action_Yes</th>\n",
              "      <th>No_of_previous_employers_Previous_IntraDepartmental_Movement_Yes</th>\n",
              "      <th>Division_Commercial Sales and Marketing_Qualification_MSc, MBA and PhD</th>\n",
              "      <th>Division_Commercial Sales and Marketing_Gender_Male</th>\n",
              "      <th>Division_Commercial Sales and Marketing_Channel_of_Recruitment_Direct Internal process</th>\n",
              "      <th>Division_Commercial Sales and Marketing_Channel_of_Recruitment_Referral and Special candidates</th>\n",
              "      <th>Division_Commercial Sales and Marketing_Foreign_schooled_Yes</th>\n",
              "      <th>Division_Commercial Sales and Marketing_Marital_Status_Not_Sure</th>\n",
              "      <th>Division_Commercial Sales and Marketing_Marital_Status_Single</th>\n",
              "      <th>Division_Commercial Sales and Marketing_Past_Disciplinary_Action_Yes</th>\n",
              "      <th>Division_Commercial Sales and Marketing_Previous_IntraDepartmental_Movement_Yes</th>\n",
              "      <th>Division_Customer Support and Field Operations_Qualification_MSc, MBA and PhD</th>\n",
              "      <th>Division_Customer Support and Field Operations_Qualification_Non-University Education</th>\n",
              "      <th>Division_Customer Support and Field Operations_Gender_Male</th>\n",
              "      <th>Division_Customer Support and Field Operations_Channel_of_Recruitment_Direct Internal process</th>\n",
              "      <th>Division_Customer Support and Field Operations_Channel_of_Recruitment_Referral and Special candidates</th>\n",
              "      <th>Division_Customer Support and Field Operations_Foreign_schooled_Yes</th>\n",
              "      <th>Division_Customer Support and Field Operations_Marital_Status_Not_Sure</th>\n",
              "      <th>Division_Customer Support and Field Operations_Marital_Status_Single</th>\n",
              "      <th>Division_Customer Support and Field Operations_Past_Disciplinary_Action_Yes</th>\n",
              "      <th>Division_Customer Support and Field Operations_Previous_IntraDepartmental_Movement_Yes</th>\n",
              "      <th>Division_Information Technology and Solution Support_Qualification_MSc, MBA and PhD</th>\n",
              "      <th>Division_Information Technology and Solution Support_Qualification_Non-University Education</th>\n",
              "      <th>Division_Information Technology and Solution Support_Gender_Male</th>\n",
              "      <th>Division_Information Technology and Solution Support_Channel_of_Recruitment_Direct Internal process</th>\n",
              "      <th>Division_Information Technology and Solution Support_Channel_of_Recruitment_Referral and Special candidates</th>\n",
              "      <th>Division_Information Technology and Solution Support_Foreign_schooled_Yes</th>\n",
              "      <th>Division_Information Technology and Solution Support_Marital_Status_Not_Sure</th>\n",
              "      <th>Division_Information Technology and Solution Support_Marital_Status_Single</th>\n",
              "      <th>Division_Information Technology and Solution Support_Past_Disciplinary_Action_Yes</th>\n",
              "      <th>Division_Information Technology and Solution Support_Previous_IntraDepartmental_Movement_Yes</th>\n",
              "      <th>Division_Information and Strategy_Qualification_MSc, MBA and PhD</th>\n",
              "      <th>Division_Information and Strategy_Gender_Male</th>\n",
              "      <th>Division_Information and Strategy_Channel_of_Recruitment_Direct Internal process</th>\n",
              "      <th>Division_Information and Strategy_Channel_of_Recruitment_Referral and Special candidates</th>\n",
              "      <th>Division_Information and Strategy_Foreign_schooled_Yes</th>\n",
              "      <th>Division_Information and Strategy_Marital_Status_Not_Sure</th>\n",
              "      <th>Division_Information and Strategy_Marital_Status_Single</th>\n",
              "      <th>Division_Information and Strategy_Past_Disciplinary_Action_Yes</th>\n",
              "      <th>Division_Information and Strategy_Previous_IntraDepartmental_Movement_Yes</th>\n",
              "      <th>Division_People/HR Management_Qualification_MSc, MBA and PhD</th>\n",
              "      <th>Division_People/HR Management_Qualification_Non-University Education</th>\n",
              "      <th>Division_People/HR Management_Gender_Male</th>\n",
              "      <th>Division_People/HR Management_Channel_of_Recruitment_Direct Internal process</th>\n",
              "      <th>Division_People/HR Management_Channel_of_Recruitment_Referral and Special candidates</th>\n",
              "      <th>Division_People/HR Management_Foreign_schooled_Yes</th>\n",
              "      <th>Division_People/HR Management_Marital_Status_Not_Sure</th>\n",
              "      <th>Division_People/HR Management_Marital_Status_Single</th>\n",
              "      <th>Division_People/HR Management_Past_Disciplinary_Action_Yes</th>\n",
              "      <th>Division_People/HR Management_Previous_IntraDepartmental_Movement_Yes</th>\n",
              "      <th>Division_Regulatory and Legal services_Qualification_MSc, MBA and PhD</th>\n",
              "      <th>Division_Regulatory and Legal services_Qualification_Non-University Education</th>\n",
              "      <th>Division_Regulatory and Legal services_Gender_Male</th>\n",
              "      <th>Division_Regulatory and Legal services_Channel_of_Recruitment_Direct Internal process</th>\n",
              "      <th>Division_Regulatory and Legal services_Channel_of_Recruitment_Referral and Special candidates</th>\n",
              "      <th>Division_Regulatory and Legal services_Foreign_schooled_Yes</th>\n",
              "      <th>Division_Regulatory and Legal services_Marital_Status_Not_Sure</th>\n",
              "      <th>Division_Regulatory and Legal services_Marital_Status_Single</th>\n",
              "      <th>Division_Regulatory and Legal services_Past_Disciplinary_Action_Yes</th>\n",
              "      <th>Division_Regulatory and Legal services_Previous_IntraDepartmental_Movement_Yes</th>\n",
              "      <th>Division_Research and Innovation_Qualification_MSc, MBA and PhD</th>\n",
              "      <th>Division_Research and Innovation_Gender_Male</th>\n",
              "      <th>Division_Research and Innovation_Channel_of_Recruitment_Direct Internal process</th>\n",
              "      <th>Division_Research and Innovation_Channel_of_Recruitment_Referral and Special candidates</th>\n",
              "      <th>Division_Research and Innovation_Foreign_schooled_Yes</th>\n",
              "      <th>Division_Research and Innovation_Marital_Status_Not_Sure</th>\n",
              "      <th>Division_Research and Innovation_Marital_Status_Single</th>\n",
              "      <th>Division_Research and Innovation_Past_Disciplinary_Action_Yes</th>\n",
              "      <th>Division_Research and Innovation_Previous_IntraDepartmental_Movement_Yes</th>\n",
              "      <th>Division_Sourcing and Purchasing_Qualification_MSc, MBA and PhD</th>\n",
              "      <th>Division_Sourcing and Purchasing_Qualification_Non-University Education</th>\n",
              "      <th>Division_Sourcing and Purchasing_Gender_Male</th>\n",
              "      <th>Division_Sourcing and Purchasing_Channel_of_Recruitment_Direct Internal process</th>\n",
              "      <th>Division_Sourcing and Purchasing_Channel_of_Recruitment_Referral and Special candidates</th>\n",
              "      <th>Division_Sourcing and Purchasing_Foreign_schooled_Yes</th>\n",
              "      <th>Division_Sourcing and Purchasing_Marital_Status_Not_Sure</th>\n",
              "      <th>Division_Sourcing and Purchasing_Marital_Status_Single</th>\n",
              "      <th>Division_Sourcing and Purchasing_Past_Disciplinary_Action_Yes</th>\n",
              "      <th>Division_Sourcing and Purchasing_Previous_IntraDepartmental_Movement_Yes</th>\n",
              "      <th>Qualification_MSc, MBA and PhD_Gender_Male</th>\n",
              "      <th>Qualification_MSc, MBA and PhD_Channel_of_Recruitment_Direct Internal process</th>\n",
              "      <th>Qualification_MSc, MBA and PhD_Channel_of_Recruitment_Referral and Special candidates</th>\n",
              "      <th>Qualification_MSc, MBA and PhD_Foreign_schooled_Yes</th>\n",
              "      <th>Qualification_MSc, MBA and PhD_Marital_Status_Not_Sure</th>\n",
              "      <th>Qualification_MSc, MBA and PhD_Marital_Status_Single</th>\n",
              "      <th>Qualification_MSc, MBA and PhD_Past_Disciplinary_Action_Yes</th>\n",
              "      <th>Qualification_MSc, MBA and PhD_Previous_IntraDepartmental_Movement_Yes</th>\n",
              "      <th>Qualification_Non-University Education_Gender_Male</th>\n",
              "      <th>Qualification_Non-University Education_Channel_of_Recruitment_Direct Internal process</th>\n",
              "      <th>Qualification_Non-University Education_Channel_of_Recruitment_Referral and Special candidates</th>\n",
              "      <th>Qualification_Non-University Education_Foreign_schooled_Yes</th>\n",
              "      <th>Qualification_Non-University Education_Marital_Status_Not_Sure</th>\n",
              "      <th>Qualification_Non-University Education_Marital_Status_Single</th>\n",
              "      <th>Qualification_Non-University Education_Past_Disciplinary_Action_Yes</th>\n",
              "      <th>Qualification_Non-University Education_Previous_IntraDepartmental_Movement_Yes</th>\n",
              "      <th>Gender_Male_Channel_of_Recruitment_Direct Internal process</th>\n",
              "      <th>Gender_Male_Channel_of_Recruitment_Referral and Special candidates</th>\n",
              "      <th>Gender_Male_Foreign_schooled_Yes</th>\n",
              "      <th>Gender_Male_Marital_Status_Not_Sure</th>\n",
              "      <th>Gender_Male_Marital_Status_Single</th>\n",
              "      <th>Gender_Male_Past_Disciplinary_Action_Yes</th>\n",
              "      <th>Gender_Male_Previous_IntraDepartmental_Movement_Yes</th>\n",
              "      <th>Channel_of_Recruitment_Direct Internal process_Foreign_schooled_Yes</th>\n",
              "      <th>Channel_of_Recruitment_Direct Internal process_Marital_Status_Not_Sure</th>\n",
              "      <th>Channel_of_Recruitment_Direct Internal process_Marital_Status_Single</th>\n",
              "      <th>Channel_of_Recruitment_Direct Internal process_Past_Disciplinary_Action_Yes</th>\n",
              "      <th>Channel_of_Recruitment_Direct Internal process_Previous_IntraDepartmental_Movement_Yes</th>\n",
              "      <th>Channel_of_Recruitment_Referral and Special candidates_Foreign_schooled_Yes</th>\n",
              "      <th>Channel_of_Recruitment_Referral and Special candidates_Marital_Status_Not_Sure</th>\n",
              "      <th>Channel_of_Recruitment_Referral and Special candidates_Marital_Status_Single</th>\n",
              "      <th>Channel_of_Recruitment_Referral and Special candidates_Past_Disciplinary_Action_Yes</th>\n",
              "      <th>Channel_of_Recruitment_Referral and Special candidates_Previous_IntraDepartmental_Movement_Yes</th>\n",
              "      <th>Foreign_schooled_Yes_Marital_Status_Not_Sure</th>\n",
              "      <th>Foreign_schooled_Yes_Marital_Status_Single</th>\n",
              "      <th>Foreign_schooled_Yes_Past_Disciplinary_Action_Yes</th>\n",
              "      <th>Foreign_schooled_Yes_Previous_IntraDepartmental_Movement_Yes</th>\n",
              "      <th>Marital_Status_Not_Sure_Past_Disciplinary_Action_Yes</th>\n",
              "      <th>Marital_Status_Not_Sure_Previous_IntraDepartmental_Movement_Yes</th>\n",
              "      <th>Marital_Status_Single_Past_Disciplinary_Action_Yes</th>\n",
              "      <th>Marital_Status_Single_Previous_IntraDepartmental_Movement_Yes</th>\n",
              "      <th>Past_Disciplinary_Action_Yes_Previous_IntraDepartmental_Movement_Yes</th>\n",
              "    </tr>\n",
              "  </thead>\n",
              "  <tbody>\n",
              "  </tbody>\n",
              "</table>\n",
              "</div>"
            ],
            "text/plain": [
              "Empty DataFrame\n",
              "Columns: [Trainings_Attended, Year_of_birth, Last_performance_score, Year_of_recruitment, Targets_met, Previous_Award, Training_score_average, No_of_previous_employers, Division_Commercial Sales and Marketing, Division_Customer Support and Field Operations, Division_Information Technology and Solution Support, Division_Information and Strategy, Division_People/HR Management, Division_Regulatory and Legal services, Division_Research and Innovation, Division_Sourcing and Purchasing, Qualification_MSc, MBA and PhD, Qualification_Non-University Education, Gender_Male, Channel_of_Recruitment_Direct Internal process, Channel_of_Recruitment_Referral and Special candidates, Foreign_schooled_Yes, Marital_Status_Not_Sure, Marital_Status_Single, Past_Disciplinary_Action_Yes, Previous_IntraDepartmental_Movement_Yes, Trainings_Attended_Year_of_birth, Trainings_Attended_Last_performance_score, Trainings_Attended_Year_of_recruitment, Trainings_Attended_Targets_met, Trainings_Attended_Previous_Award, Trainings_Attended_Training_score_average, Trainings_Attended_No_of_previous_employers, Trainings_Attended_Division_Commercial Sales and Marketing, Trainings_Attended_Division_Customer Support and Field Operations, Trainings_Attended_Division_Information Technology and Solution Support, Trainings_Attended_Division_Information and Strategy, Trainings_Attended_Division_People/HR Management, Trainings_Attended_Division_Regulatory and Legal services, Trainings_Attended_Division_Research and Innovation, Trainings_Attended_Division_Sourcing and Purchasing, Trainings_Attended_Qualification_MSc, MBA and PhD, Trainings_Attended_Qualification_Non-University Education, Trainings_Attended_Gender_Male, Trainings_Attended_Channel_of_Recruitment_Direct Internal process, Trainings_Attended_Channel_of_Recruitment_Referral and Special candidates, Trainings_Attended_Foreign_schooled_Yes, Trainings_Attended_Marital_Status_Not_Sure, Trainings_Attended_Marital_Status_Single, Trainings_Attended_Past_Disciplinary_Action_Yes, Trainings_Attended_Previous_IntraDepartmental_Movement_Yes, Year_of_birth_Last_performance_score, Year_of_birth_Year_of_recruitment, Year_of_birth_Targets_met, Year_of_birth_Previous_Award, Year_of_birth_Training_score_average, Year_of_birth_No_of_previous_employers, Year_of_birth_Division_Commercial Sales and Marketing, Year_of_birth_Division_Customer Support and Field Operations, Year_of_birth_Division_Information Technology and Solution Support, Year_of_birth_Division_Information and Strategy, Year_of_birth_Division_People/HR Management, Year_of_birth_Division_Regulatory and Legal services, Year_of_birth_Division_Research and Innovation, Year_of_birth_Division_Sourcing and Purchasing, Year_of_birth_Qualification_MSc, MBA and PhD, Year_of_birth_Qualification_Non-University Education, Year_of_birth_Gender_Male, Year_of_birth_Channel_of_Recruitment_Direct Internal process, Year_of_birth_Channel_of_Recruitment_Referral and Special candidates, Year_of_birth_Foreign_schooled_Yes, Year_of_birth_Marital_Status_Not_Sure, Year_of_birth_Marital_Status_Single, Year_of_birth_Past_Disciplinary_Action_Yes, Year_of_birth_Previous_IntraDepartmental_Movement_Yes, Last_performance_score_Year_of_recruitment, Last_performance_score_Targets_met, Last_performance_score_Previous_Award, Last_performance_score_Training_score_average, Last_performance_score_No_of_previous_employers, Last_performance_score_Division_Commercial Sales and Marketing, Last_performance_score_Division_Customer Support and Field Operations, Last_performance_score_Division_Information Technology and Solution Support, Last_performance_score_Division_Information and Strategy, Last_performance_score_Division_People/HR Management, Last_performance_score_Division_Regulatory and Legal services, Last_performance_score_Division_Research and Innovation, Last_performance_score_Division_Sourcing and Purchasing, Last_performance_score_Qualification_MSc, MBA and PhD, Last_performance_score_Qualification_Non-University Education, Last_performance_score_Gender_Male, Last_performance_score_Channel_of_Recruitment_Direct Internal process, Last_performance_score_Channel_of_Recruitment_Referral and Special candidates, Last_performance_score_Foreign_schooled_Yes, Last_performance_score_Marital_Status_Not_Sure, Last_performance_score_Marital_Status_Single, Last_performance_score_Past_Disciplinary_Action_Yes, Last_performance_score_Previous_IntraDepartmental_Movement_Yes, Year_of_recruitment_Targets_met, Year_of_recruitment_Previous_Award, ...]\n",
              "Index: []"
            ]
          },
          "metadata": {
            "tags": []
          },
          "execution_count": 31
        }
      ]
    },
    {
      "cell_type": "code",
      "metadata": {
        "id": "zW19f1SgXoXB",
        "colab_type": "code",
        "colab": {}
      },
      "source": [
        ""
      ],
      "execution_count": 0,
      "outputs": []
    },
    {
      "cell_type": "code",
      "metadata": {
        "id": "vz2FDmv6krVG",
        "colab_type": "code",
        "colab": {}
      },
      "source": [
        "#X_check = X.loc[:,X.columns.duplicated()]\n",
        "#X_check"
      ],
      "execution_count": 0,
      "outputs": []
    },
    {
      "cell_type": "code",
      "metadata": {
        "id": "imGlIBT3krVc",
        "colab_type": "code",
        "outputId": "72fe809a-4fec-4696-f4f9-14fdfa8568a5",
        "colab": {
          "base_uri": "https://localhost:8080/",
          "height": 34
        }
      },
      "source": [
        "X.shape"
      ],
      "execution_count": 0,
      "outputs": [
        {
          "output_type": "execute_result",
          "data": {
            "text/plain": [
              "(54808, 317)"
            ]
          },
          "metadata": {
            "tags": []
          },
          "execution_count": 32
        }
      ]
    },
    {
      "cell_type": "code",
      "metadata": {
        "id": "d1GqPEGMkrVv",
        "colab_type": "code",
        "outputId": "a6130662-c5af-4e8c-e73b-331972c510be",
        "colab": {
          "base_uri": "https://localhost:8080/",
          "height": 34
        }
      },
      "source": [
        "###Seperate out the training and testing dataset\n",
        "X.index = Y.index\n",
        "X['Promoted_or_Not'] = Y\n",
        "\n",
        "X_validation = X[38312:]\n",
        "X = X[0:38312]\n",
        "X_validation.shape"
      ],
      "execution_count": 0,
      "outputs": [
        {
          "output_type": "execute_result",
          "data": {
            "text/plain": [
              "(16496, 318)"
            ]
          },
          "metadata": {
            "tags": []
          },
          "execution_count": 33
        }
      ]
    },
    {
      "cell_type": "code",
      "metadata": {
        "id": "MTvDupjmkrWC",
        "colab_type": "code",
        "colab": {}
      },
      "source": [
        "Y = X.Promoted_or_Not\n",
        "X = X.drop(['Promoted_or_Not'],1)"
      ],
      "execution_count": 0,
      "outputs": []
    },
    {
      "cell_type": "code",
      "metadata": {
        "id": "-FtImdcvkrWT",
        "colab_type": "code",
        "outputId": "d39d6cd3-7824-46c0-c5b9-085c081559c7",
        "colab": {
          "base_uri": "https://localhost:8080/",
          "height": 51
        }
      },
      "source": [
        "print(Y.shape)\n",
        "print(X.shape)"
      ],
      "execution_count": 0,
      "outputs": [
        {
          "output_type": "stream",
          "text": [
            "(38312,)\n",
            "(38312, 317)\n"
          ],
          "name": "stdout"
        }
      ]
    },
    {
      "cell_type": "code",
      "metadata": {
        "id": "xYcZTJspkrWn",
        "colab_type": "code",
        "colab": {}
      },
      "source": [
        "seed = 2\n",
        "test_size = 0.2\n",
        "X_train, X_test, y_train, y_test = train_test_split(X, Y, test_size=test_size, random_state=seed)"
      ],
      "execution_count": 0,
      "outputs": []
    },
    {
      "cell_type": "code",
      "metadata": {
        "id": "2GofxtJJkrW4",
        "colab_type": "code",
        "outputId": "1157212f-b16b-4d9d-db76-a2a857c2708b",
        "colab": {
          "base_uri": "https://localhost:8080/",
          "height": 85
        }
      },
      "source": [
        "print(X_train.shape)\n",
        "print(y_train.shape)\n",
        "print(X_test.shape)\n",
        "print(y_test.shape)"
      ],
      "execution_count": 0,
      "outputs": [
        {
          "output_type": "stream",
          "text": [
            "(30649, 317)\n",
            "(30649,)\n",
            "(7663, 317)\n",
            "(7663,)\n"
          ],
          "name": "stdout"
        }
      ]
    },
    {
      "cell_type": "code",
      "metadata": {
        "id": "jTm3yulskrXL",
        "colab_type": "code",
        "colab": {}
      },
      "source": [
        "###Hypertune the model intensively with a 5 fold cross validation strategy.\n",
        "##first grid search for max_depth,min_child_weight then fix those and search for rest in same fashion\n",
        "### parameter scale_pos_weight is quite important in case of imbalanced dataset\n",
        "\n",
        "from sklearn.model_selection import GridSearchCV\n",
        "param_test2b = {\n",
        "  #'min_child_weight' : [5,6],\n",
        "   # 'max_depth':range(3,10,2),\n",
        "  #'n_estimators':[150,200,300,400],\n",
        "   # 'n_estimators':[150,200,300,400],\n",
        "    'scale_pos_weight':[1,2,3,4],\n",
        "   # 'colsample':[0.7,0.8]\n",
        "    'colsample_bytree':[0.7,0.8],\n",
        "    'subsample':[0.7,0.8],\n",
        "    'gamma':[0,0.2,0.4]\n",
        "   # 'min_child_weight' : [5,6],\n",
        "    #'max_depth':range(3,10,2),\n",
        "    #'min_child_weight':[5,6],\n",
        "  #'max_depth': range(3,10,2),\n",
        "  #'n_estimators':[150,200,300,400],\n",
        "  #'scale_pos_weight':[1,2,3,4],\n",
        "  #  'colsample_bytree':[0.7,0.8], \n",
        "  #'subsample':[0.7,0.8],\n",
        "  #'gamma':[0,0.2,0.4]\n",
        "    \n",
        "}"
      ],
      "execution_count": 0,
      "outputs": []
    },
    {
      "cell_type": "code",
      "metadata": {
        "id": "ZT4eRZQ2GsUi",
        "colab_type": "code",
        "colab": {}
      },
      "source": [
        "#from sklearn.grid_search import GridSearchCV   #Perforing grid search\n",
        "\n",
        "gsearch2b = GridSearchCV(estimator = XGBClassifier( learning_rate=0.1, n_estimators=150, max_depth=3,\n",
        " min_child_weight=6, gamma=0, subsample=0.8, colsample_bytree=0.8,\n",
        " objective= 'binary:logistic', nthread=4, scale_pos_weight=3,seed=14), \n",
        " param_grid = param_test2b, scoring='f1',n_jobs=4,iid=False, cv=5)\n",
        "gsearch2b.fit(X_train, y_train)\n",
        "#print(gsearch2b.grid_scores_)\n",
        "print(\"gsearch2b.best_params_\",gsearch2b.best_params_)\n",
        "print(\"gsearch2b.best_score_\",gsearch2b.best_score_)\n",
        "\n"
      ],
      "execution_count": 0,
      "outputs": []
    },
    {
      "cell_type": "code",
      "metadata": {
        "id": "NFclZ0KrkrYf",
        "colab_type": "code",
        "colab": {}
      },
      "source": [
        "###Train the model with the best params\n",
        "modelXg = XGBClassifier(learning_rate=0.1, n_estimators=150, max_depth=3, min_child_weight=6, \n",
        "                      gamma=0, nthread=4, subsample=0.7, colsample_bytree=0.8, objective= 'binary:logistic',scale_pos_weight=2,seed=14)\n",
        "modelXg.fit(X_train, y_train)\n",
        "y_xg = modelXg.predict(X_test)"
      ],
      "execution_count": 0,
      "outputs": []
    },
    {
      "cell_type": "code",
      "metadata": {
        "id": "5jV1NVQ4krZE",
        "colab_type": "code",
        "outputId": "8b0d4b8f-426e-4a78-cd33-a0e996625119",
        "colab": {
          "base_uri": "https://localhost:8080/",
          "height": 365
        }
      },
      "source": [
        "## Determine whether your model is overfitting or not , with the help of ROC.\n",
        "print(confusion_matrix(y_test, y_xg))\n",
        "predictions = [value for value in y_xg]\n",
        "accuracy = accuracy_score(y_test, predictions)\n",
        "precision = precision_score(y_test, predictions)\n",
        "recall = recall_score(y_test, predictions)\n",
        "f1 = f1_score(y_test, predictions)\n",
        "print(\"Accuracy_score: %.2f%% on test dataset\" % (accuracy * 100.0))\n",
        "print(\"precision_score: %.2f%% on test dataset\" % (precision * 100.0))\n",
        "print(\"recall_score: %.2f%% on test dataset\" % (recall * 100.0))\n",
        "print(\"f1_score: %.2f%% on test dataset\" % (f1 * 100.0))\n",
        "print(\"roc_auc test set\", roc_auc_score(y_test, modelXg.predict_proba(X_test)[:,1]))\n",
        "print(\"roc_auc training set\", roc_auc_score(y_train, modelXg.predict_proba(X_train)[:,1]))"
      ],
      "execution_count": 0,
      "outputs": [
        {
          "output_type": "stream",
          "text": [
            "[[6958   53]\n",
            " [ 417  235]]\n",
            "Accuracy_score: 93.87% on test dataset\n",
            "precision_score: 81.60% on test dataset\n",
            "recall_score: 36.04% on test dataset\n",
            "f1_score: 50.00% on test dataset\n",
            "roc_auc test set 0.8962481613030531\n",
            "roc_auc training set 0.9188203862660353\n"
          ],
          "name": "stdout"
        }
      ]
    },
    {
      "cell_type": "code",
      "metadata": {
        "id": "hVWfl1qZd1Gl",
        "colab_type": "code",
        "outputId": "bbbdf42e-fd06-4f8f-d499-065ae14ac510",
        "colab": {
          "base_uri": "https://localhost:8080/",
          "height": 341
        }
      },
      "source": [
        "##Once the model is ready, train the model on entire dataset.\n",
        "modelXg = XGBClassifier(learning_rate=0.1, n_estimators=150, max_depth=3, min_child_weight=6, \n",
        "                      gamma=0,nthread=4, subsample=0.7, colsample_bytree=0.8, objective= 'binary:logistic',scale_pos_weight=2,seed=14)\n",
        "\n",
        "modelXg.fit(X, Y)"
      ],
      "execution_count": 0,
      "outputs": [
        {
          "output_type": "execute_result",
          "data": {
            "text/plain": [
              "XGBClassifier(base_score=0.5, booster='gbtree', colsample_bylevel=1,\n",
              "              colsample_bynode=1, colsample_bytree=0.8, gamma=0,\n",
              "              learning_rate=0.1, max_delta_step=0, max_depth=3,\n",
              "              min_child_weight=6, missing=None, n_estimators=150, n_jobs=1,\n",
              "              nthread=4, objective='binary:logistic', random_state=0,\n",
              "              reg_alpha=0, reg_lambda=1, scale_pos_weight=2, seed=14,\n",
              "              silent=None, subsample=0.7, verbosity=1)"
            ]
          },
          "metadata": {
            "tags": []
          },
          "execution_count": 40
        }
      ]
    },
    {
      "cell_type": "code",
      "metadata": {
        "id": "BMtsNd64krZh",
        "colab_type": "code",
        "colab": {}
      },
      "source": [
        "'''\n",
        "##find the useful cols\n",
        "usefulcols = []\n",
        "for i in sorted( model.booster().get_fscore().items(), key=lambda x: x[1], reverse=True)[:100]:\n",
        "    usefulcols.append(i[0])\n",
        "print usefulcols\n",
        "'''"
      ],
      "execution_count": 0,
      "outputs": []
    },
    {
      "cell_type": "code",
      "metadata": {
        "id": "Ti--4VogMQ9-",
        "colab_type": "code",
        "colab": {}
      },
      "source": [
        "X = X_validation.drop(['Promoted_or_Not'],1)\n",
        "dfvalidation = X_validation.drop(['Promoted_or_Not'],1)\n",
        "#y_valid = modelXg.predict(dfvalidation)\n",
        "#submission = dfvalidation.copy()\n",
        "#submission['Promoted_or_Not'] = y_valid\n",
        "#submission['Promoted_or_Not'].value_counts()"
      ],
      "execution_count": 0,
      "outputs": []
    },
    {
      "cell_type": "code",
      "metadata": {
        "id": "-LpKfO9NyZ0c",
        "colab_type": "code",
        "colab": {}
      },
      "source": [
        "df2 = pd.read_csv(io.BytesIO(uploaded2['test.csv']))\n",
        "df2validation_id = df2['EmployeeNo']"
      ],
      "execution_count": 0,
      "outputs": []
    },
    {
      "cell_type": "code",
      "metadata": {
        "id": "eTlbXEjA1K2D",
        "colab_type": "code",
        "outputId": "1bea4c42-b54f-4387-a638-9eae476ebc67",
        "colab": {
          "base_uri": "https://localhost:8080/",
          "height": 1000
        }
      },
      "source": [
        "X = X_validation.drop(['Promoted_or_Not'],1)\n",
        "dfvalidation = X_validation.drop(['Promoted_or_Not'],1)\n",
        "final_pred = modelXg.predict(dfvalidation)\n",
        "final_promotion_pred = pd.DataFrame(final_pred, columns=['Promoted_or_Not'], index=df2validation_id)\n",
        "print(final_promotion_pred)"
      ],
      "execution_count": 0,
      "outputs": [
        {
          "output_type": "stream",
          "text": [
            "             Promoted_or_Not\n",
            "EmployeeNo                  \n",
            "YAK/S/00005                0\n",
            "YAK/S/00011                0\n",
            "YAK/S/00015                0\n",
            "YAK/S/00016                0\n",
            "YAK/S/00017                0\n",
            "YAK/S/00019                0\n",
            "YAK/S/00027                0\n",
            "YAK/S/00028                0\n",
            "YAK/S/00031                0\n",
            "YAK/S/00032                0\n",
            "YAK/S/00034                0\n",
            "YAK/S/00038                0\n",
            "YAK/S/00040                0\n",
            "YAK/S/00041                0\n",
            "YAK/S/00043                0\n",
            "YAK/S/00045                0\n",
            "YAK/S/00047                0\n",
            "YAK/S/00049                0\n",
            "YAK/S/00050                0\n",
            "YAK/S/00051                0\n",
            "YAK/S/00058                0\n",
            "YAK/S/00060                0\n",
            "YAK/S/00063                0\n",
            "YAK/S/00067                0\n",
            "YAK/S/00069                0\n",
            "YAK/S/00072                0\n",
            "YAK/S/00080                1\n",
            "YAK/S/00083                0\n",
            "YAK/S/00084                0\n",
            "YAK/S/00088                0\n",
            "YAK/S/00092                0\n",
            "YAK/S/00096                0\n",
            "YAK/S/00099                0\n",
            "YAK/S/00101                0\n",
            "YAK/S/00104                0\n",
            "YAK/S/00111                0\n",
            "YAK/S/00114                1\n",
            "YAK/S/00119                0\n",
            "YAK/S/00132                0\n",
            "YAK/S/00137                0\n",
            "YAK/S/00146                0\n",
            "YAK/S/00149                0\n",
            "YAK/S/00151                0\n",
            "YAK/S/00152                1\n",
            "YAK/S/00157                0\n",
            "YAK/S/00163                0\n",
            "YAK/S/00164                0\n",
            "YAK/S/00171                0\n",
            "YAK/S/00174                0\n",
            "YAK/S/00178                0\n",
            "YAK/S/00179                0\n",
            "YAK/S/00187                0\n",
            "YAK/S/00191                0\n",
            "YAK/S/00195                0\n",
            "YAK/S/00197                0\n",
            "YAK/S/00204                0\n",
            "YAK/S/00205                0\n",
            "YAK/S/00208                0\n",
            "YAK/S/00213                0\n",
            "YAK/S/00216                0\n",
            "YAK/S/00218                0\n",
            "YAK/S/00219                0\n",
            "YAK/S/00228                0\n",
            "YAK/S/00235                0\n",
            "YAK/S/00240                0\n",
            "YAK/S/00242                0\n",
            "YAK/S/00246                0\n",
            "YAK/S/00247                0\n",
            "YAK/S/00252                0\n",
            "YAK/S/00253                0\n",
            "YAK/S/00254                0\n",
            "YAK/S/00261                0\n",
            "YAK/S/00263                0\n",
            "YAK/S/00264                0\n",
            "YAK/S/00266                0\n",
            "YAK/S/00267                0\n",
            "YAK/S/00268                0\n",
            "YAK/S/00269                0\n",
            "YAK/S/00276                0\n",
            "YAK/S/00279                0\n",
            "YAK/S/00280                0\n",
            "YAK/S/00284                0\n",
            "YAK/S/00289                0\n",
            "YAK/S/00291                0\n",
            "YAK/S/00299                0\n",
            "YAK/S/00301                0\n",
            "YAK/S/00303                0\n",
            "YAK/S/00308                0\n",
            "YAK/S/00311                0\n",
            "YAK/S/00319                0\n",
            "YAK/S/00324                1\n",
            "YAK/S/00325                0\n",
            "YAK/S/00326                0\n",
            "YAK/S/00329                0\n",
            "YAK/S/00331                0\n",
            "YAK/S/00332                0\n",
            "YAK/S/00339                0\n",
            "YAK/S/00340                0\n",
            "YAK/S/00342                0\n",
            "YAK/S/00356                0\n",
            "YAK/S/00358                0\n",
            "YAK/S/00363                0\n",
            "YAK/S/00364                0\n",
            "YAK/S/00367                0\n",
            "YAK/S/00370                0\n",
            "YAK/S/00376                0\n",
            "YAK/S/00379                0\n",
            "YAK/S/00380                0\n",
            "YAK/S/00383                0\n",
            "YAK/S/00390                0\n",
            "YAK/S/00394                1\n",
            "YAK/S/00395                0\n",
            "YAK/S/00397                0\n",
            "YAK/S/00400                0\n",
            "YAK/S/00404                0\n",
            "YAK/S/00407                0\n",
            "YAK/S/00413                0\n",
            "YAK/S/00416                0\n",
            "YAK/S/00417                0\n",
            "YAK/S/00418                0\n",
            "YAK/S/00419                0\n",
            "YAK/S/00420                0\n",
            "YAK/S/00423                0\n",
            "YAK/S/00428                0\n",
            "YAK/S/00430                0\n",
            "YAK/S/00432                0\n",
            "YAK/S/00434                0\n",
            "YAK/S/00436                0\n",
            "YAK/S/00437                0\n",
            "YAK/S/00439                0\n",
            "YAK/S/00441                0\n",
            "YAK/S/00445                0\n",
            "YAK/S/00446                0\n",
            "YAK/S/00448                0\n",
            "YAK/S/00456                1\n",
            "YAK/S/00457                0\n",
            "YAK/S/00458                0\n",
            "YAK/S/00459                0\n",
            "YAK/S/00460                0\n",
            "YAK/S/00463                0\n",
            "YAK/S/00465                0\n",
            "YAK/S/00466                0\n",
            "YAK/S/00472                0\n",
            "YAK/S/00473                0\n",
            "YAK/S/00495                0\n",
            "YAK/S/00496                0\n",
            "YAK/S/00498                0\n",
            "YAK/S/00500                1\n",
            "YAK/S/00502                0\n",
            "YAK/S/00509                0\n",
            "YAK/S/00517                0\n",
            "YAK/S/00521                0\n",
            "YAK/S/00522                0\n",
            "YAK/S/00525                0\n",
            "YAK/S/00526                0\n",
            "YAK/S/00529                0\n",
            "YAK/S/00532                0\n",
            "YAK/S/00533                0\n",
            "YAK/S/00537                1\n",
            "YAK/S/00541                0\n",
            "YAK/S/00558                0\n",
            "YAK/S/00567                1\n",
            "YAK/S/00569                0\n",
            "YAK/S/00574                0\n",
            "YAK/S/00575                1\n",
            "YAK/S/00583                0\n",
            "YAK/S/00586                0\n",
            "YAK/S/00588                0\n",
            "YAK/S/00591                0\n",
            "YAK/S/00598                0\n",
            "YAK/S/00600                0\n",
            "YAK/S/00601                0\n",
            "YAK/S/00602                0\n",
            "YAK/S/00609                0\n",
            "YAK/S/00611                0\n",
            "YAK/S/00618                0\n",
            "YAK/S/00629                1\n",
            "YAK/S/00630                0\n",
            "YAK/S/00637                0\n",
            "YAK/S/00638                0\n",
            "YAK/S/00640                0\n",
            "YAK/S/00644                0\n",
            "YAK/S/00648                0\n",
            "YAK/S/00649                0\n",
            "YAK/S/00652                0\n",
            "YAK/S/00654                0\n",
            "YAK/S/00656                0\n",
            "YAK/S/00657                0\n",
            "YAK/S/00658                0\n",
            "YAK/S/00659                0\n",
            "YAK/S/00663                0\n",
            "YAK/S/00667                0\n",
            "YAK/S/00668                0\n",
            "YAK/S/00669                0\n",
            "YAK/S/00671                0\n",
            "YAK/S/00674                0\n",
            "YAK/S/00675                0\n",
            "YAK/S/00678                0\n",
            "YAK/S/00681                0\n",
            "YAK/S/00685                0\n",
            "YAK/S/00686                0\n",
            "YAK/S/00687                0\n",
            "YAK/S/00699                0\n",
            "YAK/S/00700                0\n",
            "YAK/S/00704                0\n",
            "YAK/S/00705                0\n",
            "YAK/S/00707                0\n",
            "YAK/S/00708                0\n",
            "YAK/S/00710                0\n",
            "YAK/S/00713                0\n",
            "YAK/S/00714                0\n",
            "YAK/S/00715                0\n",
            "YAK/S/00719                0\n",
            "YAK/S/00721                0\n",
            "YAK/S/00722                0\n",
            "YAK/S/00723                0\n",
            "YAK/S/00726                1\n",
            "YAK/S/00733                0\n",
            "YAK/S/00736                1\n",
            "YAK/S/00739                0\n",
            "YAK/S/00742                0\n",
            "YAK/S/00748                0\n",
            "YAK/S/00751                0\n",
            "YAK/S/00754                0\n",
            "YAK/S/00762                0\n",
            "YAK/S/00763                0\n",
            "YAK/S/00767                0\n",
            "YAK/S/00768                0\n",
            "YAK/S/00769                0\n",
            "YAK/S/00772                0\n",
            "YAK/S/00774                0\n",
            "YAK/S/00780                0\n",
            "YAK/S/00784                0\n",
            "YAK/S/00786                0\n",
            "YAK/S/00791                0\n",
            "YAK/S/00807                0\n",
            "YAK/S/00809                0\n",
            "YAK/S/00813                0\n",
            "YAK/S/00815                0\n",
            "YAK/S/00816                0\n",
            "YAK/S/00821                0\n",
            "YAK/S/00826                0\n",
            "YAK/S/00829                0\n",
            "YAK/S/00832                0\n",
            "YAK/S/00839                0\n",
            "YAK/S/00842                0\n",
            "YAK/S/00843                0\n",
            "YAK/S/00849                0\n",
            "YAK/S/00850                0\n",
            "YAK/S/00851                0\n",
            "...                      ...\n",
            "YAK/S/54061                0\n",
            "YAK/S/54063                0\n",
            "YAK/S/54064                0\n",
            "YAK/S/54066                0\n",
            "YAK/S/54067                0\n",
            "YAK/S/54068                0\n",
            "YAK/S/54071                0\n",
            "YAK/S/54072                0\n",
            "YAK/S/54079                0\n",
            "YAK/S/54081                0\n",
            "YAK/S/54084                0\n",
            "YAK/S/54086                0\n",
            "YAK/S/54087                0\n",
            "YAK/S/54090                0\n",
            "YAK/S/54093                0\n",
            "YAK/S/54094                0\n",
            "YAK/S/54095                0\n",
            "YAK/S/54096                0\n",
            "YAK/S/54102                0\n",
            "YAK/S/54104                0\n",
            "YAK/S/54106                0\n",
            "YAK/S/54108                0\n",
            "YAK/S/54111                0\n",
            "YAK/S/54113                0\n",
            "YAK/S/54114                0\n",
            "YAK/S/54123                0\n",
            "YAK/S/54126                0\n",
            "YAK/S/54130                0\n",
            "YAK/S/54134                0\n",
            "YAK/S/54136                0\n",
            "YAK/S/54137                0\n",
            "YAK/S/54139                0\n",
            "YAK/S/54140                0\n",
            "YAK/S/54142                0\n",
            "YAK/S/54145                0\n",
            "YAK/S/54146                0\n",
            "YAK/S/54148                0\n",
            "YAK/S/54150                0\n",
            "YAK/S/54152                0\n",
            "YAK/S/54153                0\n",
            "YAK/S/54155                0\n",
            "YAK/S/54156                0\n",
            "YAK/S/54157                0\n",
            "YAK/S/54163                0\n",
            "YAK/S/54168                0\n",
            "YAK/S/54169                0\n",
            "YAK/S/54170                0\n",
            "YAK/S/54171                0\n",
            "YAK/S/54175                0\n",
            "YAK/S/54177                0\n",
            "YAK/S/54182                0\n",
            "YAK/S/54185                0\n",
            "YAK/S/54186                0\n",
            "YAK/S/54191                0\n",
            "YAK/S/54192                0\n",
            "YAK/S/54194                0\n",
            "YAK/S/54195                0\n",
            "YAK/S/54203                0\n",
            "YAK/S/54204                0\n",
            "YAK/S/54207                0\n",
            "YAK/S/54210                0\n",
            "YAK/S/54211                0\n",
            "YAK/S/54213                0\n",
            "YAK/S/54214                0\n",
            "YAK/S/54217                0\n",
            "YAK/S/54219                0\n",
            "YAK/S/54220                0\n",
            "YAK/S/54226                0\n",
            "YAK/S/54233                0\n",
            "YAK/S/54235                0\n",
            "YAK/S/54236                0\n",
            "YAK/S/54242                0\n",
            "YAK/S/54253                0\n",
            "YAK/S/54257                0\n",
            "YAK/S/54258                0\n",
            "YAK/S/54259                0\n",
            "YAK/S/54261                0\n",
            "YAK/S/54265                0\n",
            "YAK/S/54271                0\n",
            "YAK/S/54279                0\n",
            "YAK/S/54280                0\n",
            "YAK/S/54281                0\n",
            "YAK/S/54287                0\n",
            "YAK/S/54291                0\n",
            "YAK/S/54292                0\n",
            "YAK/S/54293                0\n",
            "YAK/S/54295                0\n",
            "YAK/S/54297                0\n",
            "YAK/S/54298                0\n",
            "YAK/S/54303                0\n",
            "YAK/S/54304                0\n",
            "YAK/S/54307                0\n",
            "YAK/S/54309                0\n",
            "YAK/S/54310                0\n",
            "YAK/S/54313                0\n",
            "YAK/S/54316                0\n",
            "YAK/S/54320                0\n",
            "YAK/S/54325                0\n",
            "YAK/S/54329                0\n",
            "YAK/S/54331                0\n",
            "YAK/S/54334                0\n",
            "YAK/S/54342                0\n",
            "YAK/S/54347                0\n",
            "YAK/S/54348                0\n",
            "YAK/S/54351                0\n",
            "YAK/S/54360                0\n",
            "YAK/S/54362                0\n",
            "YAK/S/54363                0\n",
            "YAK/S/54364                0\n",
            "YAK/S/54367                0\n",
            "YAK/S/54369                0\n",
            "YAK/S/54373                0\n",
            "YAK/S/54376                0\n",
            "YAK/S/54378                0\n",
            "YAK/S/54379                0\n",
            "YAK/S/54381                0\n",
            "YAK/S/54385                0\n",
            "YAK/S/54390                0\n",
            "YAK/S/54397                0\n",
            "YAK/S/54398                0\n",
            "YAK/S/54399                0\n",
            "YAK/S/54408                0\n",
            "YAK/S/54410                0\n",
            "YAK/S/54412                0\n",
            "YAK/S/54415                0\n",
            "YAK/S/54416                0\n",
            "YAK/S/54424                0\n",
            "YAK/S/54426                0\n",
            "YAK/S/54428                0\n",
            "YAK/S/54441                0\n",
            "YAK/S/54448                0\n",
            "YAK/S/54449                0\n",
            "YAK/S/54452                0\n",
            "YAK/S/54454                0\n",
            "YAK/S/54455                0\n",
            "YAK/S/54458                0\n",
            "YAK/S/54462                0\n",
            "YAK/S/54463                0\n",
            "YAK/S/54464                0\n",
            "YAK/S/54465                0\n",
            "YAK/S/54466                0\n",
            "YAK/S/54470                0\n",
            "YAK/S/54471                0\n",
            "YAK/S/54476                0\n",
            "YAK/S/54478                0\n",
            "YAK/S/54482                0\n",
            "YAK/S/54486                0\n",
            "YAK/S/54488                0\n",
            "YAK/S/54489                0\n",
            "YAK/S/54495                0\n",
            "YAK/S/54496                0\n",
            "YAK/S/54497                0\n",
            "YAK/S/54500                0\n",
            "YAK/S/54503                0\n",
            "YAK/S/54506                0\n",
            "YAK/S/54507                0\n",
            "YAK/S/54510                0\n",
            "YAK/S/54512                0\n",
            "YAK/S/54513                0\n",
            "YAK/S/54516                0\n",
            "YAK/S/54521                0\n",
            "YAK/S/54522                0\n",
            "YAK/S/54523                0\n",
            "YAK/S/54532                0\n",
            "YAK/S/54535                0\n",
            "YAK/S/54536                0\n",
            "YAK/S/54539                0\n",
            "YAK/S/54540                0\n",
            "YAK/S/54544                0\n",
            "YAK/S/54545                0\n",
            "YAK/S/54553                0\n",
            "YAK/S/54559                0\n",
            "YAK/S/54562                0\n",
            "YAK/S/54563                0\n",
            "YAK/S/54571                0\n",
            "YAK/S/54574                1\n",
            "YAK/S/54578                0\n",
            "YAK/S/54579                0\n",
            "YAK/S/54582                0\n",
            "YAK/S/54583                0\n",
            "YAK/S/54591                0\n",
            "YAK/S/54596                0\n",
            "YAK/S/54599                0\n",
            "YAK/S/54600                0\n",
            "YAK/S/54602                0\n",
            "YAK/S/54606                0\n",
            "YAK/S/54611                0\n",
            "YAK/S/54612                0\n",
            "YAK/S/54613                0\n",
            "YAK/S/54626                0\n",
            "YAK/S/54631                0\n",
            "YAK/S/54632                0\n",
            "YAK/S/54646                0\n",
            "YAK/S/54647                0\n",
            "YAK/S/54650                0\n",
            "YAK/S/54651                0\n",
            "YAK/S/54652                0\n",
            "YAK/S/54658                0\n",
            "YAK/S/54666                0\n",
            "YAK/S/54668                0\n",
            "YAK/S/54669                0\n",
            "YAK/S/54671                0\n",
            "YAK/S/54673                0\n",
            "YAK/S/54674                0\n",
            "YAK/S/54678                0\n",
            "YAK/S/54682                0\n",
            "YAK/S/54684                0\n",
            "YAK/S/54685                0\n",
            "YAK/S/54687                0\n",
            "YAK/S/54689                0\n",
            "YAK/S/54696                0\n",
            "YAK/S/54698                0\n",
            "YAK/S/54699                0\n",
            "YAK/S/54702                0\n",
            "YAK/S/54709                0\n",
            "YAK/S/54711                0\n",
            "YAK/S/54714                0\n",
            "YAK/S/54716                0\n",
            "YAK/S/54718                0\n",
            "YAK/S/54722                0\n",
            "YAK/S/54726                0\n",
            "YAK/S/54738                0\n",
            "YAK/S/54742                0\n",
            "YAK/S/54743                0\n",
            "YAK/S/54744                0\n",
            "YAK/S/54748                0\n",
            "YAK/S/54752                0\n",
            "YAK/S/54754                0\n",
            "YAK/S/54755                0\n",
            "YAK/S/54757                0\n",
            "YAK/S/54758                0\n",
            "YAK/S/54760                0\n",
            "YAK/S/54762                1\n",
            "YAK/S/54767                0\n",
            "YAK/S/54768                0\n",
            "YAK/S/54773                1\n",
            "YAK/S/54776                0\n",
            "YAK/S/54778                0\n",
            "YAK/S/54780                0\n",
            "YAK/S/54782                0\n",
            "YAK/S/54784                0\n",
            "YAK/S/54785                0\n",
            "YAK/S/54787                0\n",
            "YAK/S/54792                0\n",
            "YAK/S/54795                0\n",
            "YAK/S/54797                1\n",
            "YAK/S/54798                0\n",
            "YAK/S/54800                0\n",
            "YAK/S/54803                0\n",
            "YAK/S/54804                0\n",
            "\n",
            "[16496 rows x 1 columns]\n"
          ],
          "name": "stdout"
        }
      ]
    },
    {
      "cell_type": "code",
      "metadata": {
        "id": "Q-cwa5BwkrZ-",
        "colab_type": "code",
        "colab": {}
      },
      "source": [
        "#index = df2['EmployeeNo']\n",
        "#submission = submission[['Promoted_or_Not']]\n",
        "#submission = submission[['is_promoted']]\n",
        "#submission.reset_index(inplace=True)\n",
        "\n",
        "from google.colab import files\n",
        "final_promotion_pred.to_csv('employee_promotion_6_xgb.csv')\n",
        "#submission.to_csv('employee_promotion_6_xgb.csv',index=index) \n",
        "files.download('employee_promotion_6_xgb.csv')\n",
        "\n",
        "\n",
        "#submission.to_csv(\"Promoted or not submission 6\", index=index)\n",
        "#submission.to_csv(\"Promoted or not submission 6\",index=False)\n",
        "#print(submission)"
      ],
      "execution_count": 0,
      "outputs": []
    },
    {
      "cell_type": "code",
      "metadata": {
        "id": "KbtieQhWkraN",
        "colab_type": "code",
        "colab": {}
      },
      "source": [
        "'''sub = pd.read_csv(\"solution_18sept.csv\")\n",
        "\n",
        "private = pd.read_csv(\"private_W1BajhK.csv\")\n",
        "private.columns = ['employee_id', 'actual']\n",
        "private = private.merge(sub, on = \"employee_id\", how=\"left\")'''"
      ],
      "execution_count": 0,
      "outputs": []
    },
    {
      "cell_type": "code",
      "metadata": {
        "id": "noJR_FqOkrac",
        "colab_type": "code",
        "colab": {}
      },
      "source": [
        "'''from sklearn.metrics import f1_score\n",
        "\n",
        "f1_score(private['actual'], private['is_promoted'])'''"
      ],
      "execution_count": 0,
      "outputs": []
    },
    {
      "cell_type": "code",
      "metadata": {
        "id": "8Bn6UNU9dxk-",
        "colab_type": "code",
        "colab": {}
      },
      "source": [
        ""
      ],
      "execution_count": 0,
      "outputs": []
    }
  ]
}